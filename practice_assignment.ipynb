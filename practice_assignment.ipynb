{
 "cells": [
  {
   "cell_type": "markdown",
   "metadata": {},
   "source": [
    "# Practice assigmnment\n",
    "_____"
   ]
  },
  {
   "cell_type": "markdown",
   "metadata": {},
   "source": [
    "# Write phyton program to check whether a number is positive or nagetive?"
   ]
  },
  {
   "cell_type": "code",
   "execution_count": 1,
   "metadata": {},
   "outputs": [
    {
     "name": "stdout",
     "output_type": "stream",
     "text": [
      "Enter a number: 6\n",
      "positive number\n"
     ]
    }
   ],
   "source": [
    "num = float(input(\"Enter a number: \"))\n",
    "if num > 0:\n",
    "    print(\"positive number\")\n",
    "elif num == 0:\n",
    "    print(\"zero\")\n",
    "else:\n",
    "    print(\"nagetive number\")\n",
    "    "
   ]
  },
  {
   "cell_type": "markdown",
   "metadata": {},
   "source": [
    "# Write phyton program to read two number and print their Quotient and Remainder?"
   ]
  },
  {
   "cell_type": "code",
   "execution_count": 2,
   "metadata": {},
   "outputs": [
    {
     "name": "stdout",
     "output_type": "stream",
     "text": [
      "Enter the first number: 50\n",
      "Enter the second number: 6\n",
      "Quotient is: 8.333333333333334\n",
      "Remainder is: 2\n"
     ]
    }
   ],
   "source": [
    "a = int(input(\"Enter the first number: \"))\n",
    "b = int(input(\"Enter the second number: \"))\n",
    "quotient = a/b\n",
    "remainder = a%b\n",
    "print(\"Quotient is:\",quotient)\n",
    "print(\"Remainder is:\",remainder)"
   ]
  },
  {
   "cell_type": "markdown",
   "metadata": {},
   "source": [
    "# Write phyton program to find the second largest number in a list?"
   ]
  },
  {
   "cell_type": "code",
   "execution_count": null,
   "metadata": {},
   "outputs": [
    {
     "name": "stdout",
     "output_type": "stream",
     "text": [
      "enter number of element:56\n",
      "enter element:4\n",
      "enter element:8\n",
      "enter element:90\n",
      "enter element:50\n",
      "enter element:40\n",
      "enter element:30\n",
      "enter element:9\n",
      "enter element:4\n",
      "enter element:67\n"
     ]
    }
   ],
   "source": [
    "a = [] \n",
    "n = int(input(\"enter number of element:\"))\n",
    "for i in range(1,n+1):\n",
    "    b = int(input(\"enter element:\"))\n",
    "    a.append(b)\n",
    "a.sort()\n",
    "print(\"second largest element is:\",a[n-2])"
   ]
  },
  {
   "cell_type": "markdown",
   "metadata": {},
   "source": [
    "# Write phyton program to find the area of a triangle given all three sides?"
   ]
  },
  {
   "cell_type": "code",
   "execution_count": 1,
   "metadata": {},
   "outputs": [
    {
     "name": "stdout",
     "output_type": "stream",
     "text": [
      "Enter first side: 4\n",
      "Enter second side: 6\n",
      "Enter third side: 8\n",
      "the area of the traingle is 11.62\n"
     ]
    }
   ],
   "source": [
    "a = float(input('Enter first side: '))\n",
    "b = float(input('Enter second side: '))\n",
    "c = float(input('Enter third side: '))\n",
    "s = (a+b+c)/2\n",
    "area = (s*(s-a)*(s-b)*(s-c)) ** 0.5\n",
    "print('the area of the traingle is %0.2f' %area)"
   ]
  },
  {
   "cell_type": "markdown",
   "metadata": {},
   "source": [
    "# Write phyton program to take in the marks of 5 subjects and display the grades?"
   ]
  },
  {
   "cell_type": "code",
   "execution_count": 5,
   "metadata": {},
   "outputs": [
    {
     "name": "stdout",
     "output_type": "stream",
     "text": [
      "Enter marks of the first subject: 50\n",
      "Enter marks of the second subject: 60\n",
      "Enter marks of the third subject: 40\n",
      "Enter marks of the fourth subject:70\n",
      "Enter marks of the fifth subject: 80\n"
     ]
    },
    {
     "ename": "TypeError",
     "evalue": "unsupported operand type(s) for &: 'int' and 'float'",
     "output_type": "error",
     "traceback": [
      "\u001b[1;31m---------------------------------------------------------------------------\u001b[0m",
      "\u001b[1;31mTypeError\u001b[0m                                 Traceback (most recent call last)",
      "\u001b[1;32m<ipython-input-5-f32a865157ec>\u001b[0m in \u001b[0;36m<module>\u001b[1;34m\u001b[0m\n\u001b[0;32m      7\u001b[0m \u001b[1;32mif\u001b[0m\u001b[1;33m(\u001b[0m\u001b[0mavg\u001b[0m\u001b[1;33m>=\u001b[0m\u001b[1;36m90\u001b[0m\u001b[1;33m)\u001b[0m\u001b[1;33m:\u001b[0m\u001b[1;33m\u001b[0m\u001b[1;33m\u001b[0m\u001b[0m\n\u001b[0;32m      8\u001b[0m     \u001b[0mprint\u001b[0m\u001b[1;33m(\u001b[0m\u001b[1;34m\"grade: A\"\u001b[0m\u001b[1;33m)\u001b[0m\u001b[1;33m\u001b[0m\u001b[1;33m\u001b[0m\u001b[0m\n\u001b[1;32m----> 9\u001b[1;33m \u001b[1;32melif\u001b[0m\u001b[1;33m(\u001b[0m\u001b[0mavg\u001b[0m\u001b[1;33m>=\u001b[0m\u001b[1;36m80\u001b[0m\u001b[1;33m&\u001b[0m\u001b[0mavg\u001b[0m\u001b[1;33m<\u001b[0m\u001b[1;36m90\u001b[0m\u001b[1;33m)\u001b[0m\u001b[1;33m:\u001b[0m\u001b[1;33m\u001b[0m\u001b[1;33m\u001b[0m\u001b[0m\n\u001b[0m\u001b[0;32m     10\u001b[0m     \u001b[0mprint\u001b[0m\u001b[1;33m(\u001b[0m\u001b[1;34m\"grade: B\"\u001b[0m\u001b[1;33m)\u001b[0m\u001b[1;33m\u001b[0m\u001b[1;33m\u001b[0m\u001b[0m\n\u001b[0;32m     11\u001b[0m \u001b[1;32melif\u001b[0m\u001b[1;33m(\u001b[0m\u001b[0mabg\u001b[0m\u001b[1;33m>=\u001b[0m\u001b[1;36m70\u001b[0m\u001b[1;33m&\u001b[0m\u001b[0mavg\u001b[0m\u001b[1;33m<\u001b[0m\u001b[1;36m80\u001b[0m\u001b[1;33m)\u001b[0m\u001b[1;33m:\u001b[0m\u001b[1;33m\u001b[0m\u001b[1;33m\u001b[0m\u001b[0m\n",
      "\u001b[1;31mTypeError\u001b[0m: unsupported operand type(s) for &: 'int' and 'float'"
     ]
    }
   ],
   "source": [
    "sub1 = int(input(\"Enter marks of the first subject: \"))\n",
    "sub2 = int(input(\"Enter marks of the second subject: \"))\n",
    "sub3 = int(input(\"Enter marks of the third subject: \"))\n",
    "sub4 = int(input(\"Enter marks of the fourth subject:\"))\n",
    "sub5 = int(input(\"Enter marks of the fifth subject: \"))\n",
    "avg = (sub1+sub2+sub3+sub4+sub5)/5\n",
    "if(avg>=90):\n",
    "    print(\"grade: A\")\n",
    "elif(avg>=80&avg<90):\n",
    "    print(\"grade: B\")\n",
    "elif(abg>=70&avg<80):\n",
    "    print(\"grade: C\")\n",
    "elif(avg>=60&avg<70):\n",
    "    print(\"grade: D\")\n",
    "else:\n",
    "    print(\"grade: F\")\n"
   ]
  },
  {
   "cell_type": "code",
   "execution_count": null,
   "metadata": {},
   "outputs": [],
   "source": [
    "# writ"
   ]
  },
  {
   "cell_type": "code",
   "execution_count": 2,
   "metadata": {},
   "outputs": [
    {
     "name": "stdout",
     "output_type": "stream",
     "text": [
      "Enter the number of element in list:6\n",
      "enter element1:7\n",
      "enter element2:3\n",
      "enter element3:8\n",
      "enter element4:9\n",
      "enter element5:0\n",
      "enter element6:3\n",
      "the orignal list is:  [7, 3, 8, 9, 0, 3]\n",
      "the new list is:  [7, 10, 18, 27, 27, 30]\n"
     ]
    }
   ],
   "source": [
    "a = []\n",
    "n = int(input(\"Enter the number of element in list:\"))\n",
    "for x in range(0,n):\n",
    "    element = int(input(\"enter element\" + str(x+1) + \":\"))\n",
    "    a.append(element)\n",
    "b = [sum(a[0:x+1]) for x in range(0,len(a))]    \n",
    "print(\"the orignal list is: \",a)\n",
    "print(\"the new list is: \",b)"
   ]
  },
  {
   "cell_type": "code",
   "execution_count": null,
   "metadata": {},
   "outputs": [],
   "source": []
  }
 ],
 "metadata": {
  "kernelspec": {
   "display_name": "Python 3",
   "language": "python",
   "name": "python3"
  },
  "language_info": {
   "codemirror_mode": {
    "name": "ipython",
    "version": 3
   },
   "file_extension": ".py",
   "mimetype": "text/x-python",
   "name": "python",
   "nbconvert_exporter": "python",
   "pygments_lexer": "ipython3",
   "version": "3.7.4"
  }
 },
 "nbformat": 4,
 "nbformat_minor": 2
}
